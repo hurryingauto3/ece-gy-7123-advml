{
 "cells": [
  {
   "cell_type": "code",
   "execution_count": 1,
   "id": "fb27213e",
   "metadata": {
    "_cell_guid": "b1076dfc-b9ad-4769-8c92-a6c4dae69d19",
    "_uuid": "8f2839f25d086af736a60e9eeb907d3b93b6e0e5",
    "execution": {
     "iopub.execute_input": "2025-03-16T17:20:58.876752Z",
     "iopub.status.busy": "2025-03-16T17:20:58.876416Z",
     "iopub.status.idle": "2025-03-16T17:21:06.289503Z",
     "shell.execute_reply": "2025-03-16T17:21:06.288822Z"
    },
    "papermill": {
     "duration": 7.418988,
     "end_time": "2025-03-16T17:21:06.291102",
     "exception": false,
     "start_time": "2025-03-16T17:20:58.872114",
     "status": "completed"
    },
    "tags": []
   },
   "outputs": [],
   "source": [
    "import torch\n",
    "import torch.nn as nn\n",
    "import torch.optim as optim\n",
    "from torch.utils.data import Dataset, DataLoader, Subset\n",
    "import torchvision.transforms as transforms\n",
    "from torchvision.datasets import MNIST\n",
    "import numpy as np, random"
   ]
  },
  {
   "cell_type": "code",
   "execution_count": 2,
   "id": "ab1d5df7",
   "metadata": {
    "execution": {
     "iopub.execute_input": "2025-03-16T17:21:06.298493Z",
     "iopub.status.busy": "2025-03-16T17:21:06.298062Z",
     "iopub.status.idle": "2025-03-16T17:21:06.306047Z",
     "shell.execute_reply": "2025-03-16T17:21:06.305200Z"
    },
    "papermill": {
     "duration": 0.012981,
     "end_time": "2025-03-16T17:21:06.307377",
     "exception": false,
     "start_time": "2025-03-16T17:21:06.294396",
     "status": "completed"
    },
    "tags": []
   },
   "outputs": [],
   "source": [
    "class PairMNIST(Dataset):\n",
    "    def __init__(self, mnist_subset):\n",
    "        self.data = mnist_subset.dataset.data[mnist_subset.indices]\n",
    "        self.targets = mnist_subset.dataset.targets[mnist_subset.indices]\n",
    "        self.transform = transforms.ToTensor()\n",
    "        \n",
    "        # Organize indices by label\n",
    "        self.index_by_label = {i: (self.targets == i).nonzero(as_tuple=True)[0].tolist() for i in range(10)}\n",
    "\n",
    "        # Generate pairs\n",
    "        self.pairs, self.labels = [], []\n",
    "        for idx in range(len(self.data)):\n",
    "            img1_label = int(self.targets[idx])\n",
    "\n",
    "            # Ensure positive pair has the same label\n",
    "            pos_idx = random.choice(self.index_by_label[img1_label])\n",
    "            self.pairs.append((idx, pos_idx))\n",
    "            self.labels.append(1)  # Same digit\n",
    "\n",
    "            # Ensure negative pair has a different label\n",
    "            neg_label = random.choice([l for l in range(10) if l != img1_label])\n",
    "            neg_idx = random.choice(self.index_by_label[neg_label])\n",
    "            self.pairs.append((idx, neg_idx))\n",
    "            self.labels.append(0)  # Different digit\n",
    "\n",
    "    def __len__(self):\n",
    "        return len(self.pairs)\n",
    "\n",
    "    def __getitem__(self, idx):\n",
    "        i1, i2 = self.pairs[idx]\n",
    "        img1 = self.transform(self.data[i1].numpy()).squeeze(0) \n",
    "        img2 = self.transform(self.data[i2].numpy()).squeeze(0)\n",
    "    \n",
    "        # Stack images to form a (2, 28, 28) tensor\n",
    "        pair = torch.stack([img1, img2], dim=0)  # Now correctly (2, 28, 28)\n",
    "        label = torch.tensor(self.labels[idx], dtype=torch.float32)\n",
    "        \n",
    "        return pair, label"
   ]
  },
  {
   "cell_type": "code",
   "execution_count": 3,
   "id": "4898c91a",
   "metadata": {
    "execution": {
     "iopub.execute_input": "2025-03-16T17:21:06.313458Z",
     "iopub.status.busy": "2025-03-16T17:21:06.313213Z",
     "iopub.status.idle": "2025-03-16T17:21:10.382950Z",
     "shell.execute_reply": "2025-03-16T17:21:10.381859Z"
    },
    "papermill": {
     "duration": 4.07429,
     "end_time": "2025-03-16T17:21:10.384424",
     "exception": false,
     "start_time": "2025-03-16T17:21:06.310134",
     "status": "completed"
    },
    "tags": []
   },
   "outputs": [
    {
     "name": "stdout",
     "output_type": "stream",
     "text": [
      "Downloading http://yann.lecun.com/exdb/mnist/train-images-idx3-ubyte.gz\n",
      "Failed to download (trying next):\n",
      "HTTP Error 404: Not Found\n",
      "\n",
      "Downloading https://ossci-datasets.s3.amazonaws.com/mnist/train-images-idx3-ubyte.gz\n",
      "Downloading https://ossci-datasets.s3.amazonaws.com/mnist/train-images-idx3-ubyte.gz to ./data/MNIST/raw/train-images-idx3-ubyte.gz\n"
     ]
    },
    {
     "name": "stderr",
     "output_type": "stream",
     "text": [
      "100%|██████████| 9.91M/9.91M [00:00<00:00, 16.1MB/s]\n"
     ]
    },
    {
     "name": "stdout",
     "output_type": "stream",
     "text": [
      "Extracting ./data/MNIST/raw/train-images-idx3-ubyte.gz to ./data/MNIST/raw\n",
      "\n",
      "Downloading http://yann.lecun.com/exdb/mnist/train-labels-idx1-ubyte.gz\n",
      "Failed to download (trying next):\n",
      "HTTP Error 404: Not Found\n",
      "\n",
      "Downloading https://ossci-datasets.s3.amazonaws.com/mnist/train-labels-idx1-ubyte.gz\n",
      "Downloading https://ossci-datasets.s3.amazonaws.com/mnist/train-labels-idx1-ubyte.gz to ./data/MNIST/raw/train-labels-idx1-ubyte.gz\n"
     ]
    },
    {
     "name": "stderr",
     "output_type": "stream",
     "text": [
      "100%|██████████| 28.9k/28.9k [00:00<00:00, 475kB/s]\n"
     ]
    },
    {
     "name": "stdout",
     "output_type": "stream",
     "text": [
      "Extracting ./data/MNIST/raw/train-labels-idx1-ubyte.gz to ./data/MNIST/raw\n",
      "\n",
      "Downloading http://yann.lecun.com/exdb/mnist/t10k-images-idx3-ubyte.gz\n",
      "Failed to download (trying next):\n",
      "HTTP Error 404: Not Found\n",
      "\n",
      "Downloading https://ossci-datasets.s3.amazonaws.com/mnist/t10k-images-idx3-ubyte.gz\n",
      "Downloading https://ossci-datasets.s3.amazonaws.com/mnist/t10k-images-idx3-ubyte.gz to ./data/MNIST/raw/t10k-images-idx3-ubyte.gz\n"
     ]
    },
    {
     "name": "stderr",
     "output_type": "stream",
     "text": [
      "100%|██████████| 1.65M/1.65M [00:00<00:00, 4.45MB/s]\n"
     ]
    },
    {
     "name": "stdout",
     "output_type": "stream",
     "text": [
      "Extracting ./data/MNIST/raw/t10k-images-idx3-ubyte.gz to ./data/MNIST/raw\n",
      "\n",
      "Downloading http://yann.lecun.com/exdb/mnist/t10k-labels-idx1-ubyte.gz\n",
      "Failed to download (trying next):\n",
      "HTTP Error 404: Not Found\n",
      "\n",
      "Downloading https://ossci-datasets.s3.amazonaws.com/mnist/t10k-labels-idx1-ubyte.gz\n",
      "Downloading https://ossci-datasets.s3.amazonaws.com/mnist/t10k-labels-idx1-ubyte.gz to ./data/MNIST/raw/t10k-labels-idx1-ubyte.gz\n"
     ]
    },
    {
     "name": "stderr",
     "output_type": "stream",
     "text": [
      "100%|██████████| 4.54k/4.54k [00:00<00:00, 6.80MB/s]"
     ]
    },
    {
     "name": "stdout",
     "output_type": "stream",
     "text": [
      "Extracting ./data/MNIST/raw/t10k-labels-idx1-ubyte.gz to ./data/MNIST/raw\n",
      "\n"
     ]
    },
    {
     "name": "stderr",
     "output_type": "stream",
     "text": [
      "\n"
     ]
    }
   ],
   "source": [
    "# Load full MNIST dataset\n",
    "train_full = MNIST(root='./data', train=True, download=True)\n",
    "test_full = MNIST(root='./data', train=False, download=True)\n",
    "\n",
    "# Ensure no overlap by taking distinct subsets within each dataset\n",
    "num_train_samples = int(0.1 * len(train_full)) \n",
    "num_test_samples = int(0.1 * len(test_full))   \n",
    "\n",
    "# Randomly select indices **without replacement** from each dataset separately\n",
    "train_indices = np.random.choice(len(train_full), num_train_samples, replace=False)\n",
    "test_indices = np.random.choice(len(test_full), num_test_samples, replace=False)\n",
    "\n",
    "# Create subsets\n",
    "train_subset = Subset(train_full, train_indices)\n",
    "test_subset = Subset(test_full, test_indices)\n",
    "\n",
    "# Custom dataset for paired MNIST\n",
    "train_dataset = PairMNIST(train_subset)\n",
    "test_dataset = PairMNIST(test_subset)\n",
    "\n",
    "# Data loaders\n",
    "train_loader = DataLoader(train_dataset, batch_size=64, shuffle=True)\n",
    "test_loader = DataLoader(test_dataset, batch_size=64, shuffle=False)"
   ]
  },
  {
   "cell_type": "code",
   "execution_count": 4,
   "id": "77a7d468",
   "metadata": {
    "execution": {
     "iopub.execute_input": "2025-03-16T17:21:10.393710Z",
     "iopub.status.busy": "2025-03-16T17:21:10.393475Z",
     "iopub.status.idle": "2025-03-16T17:21:10.645868Z",
     "shell.execute_reply": "2025-03-16T17:21:10.645083Z"
    },
    "papermill": {
     "duration": 0.25828,
     "end_time": "2025-03-16T17:21:10.647269",
     "exception": false,
     "start_time": "2025-03-16T17:21:10.388989",
     "status": "completed"
    },
    "tags": []
   },
   "outputs": [
    {
     "data": {
      "image/png": "[encoded data removed]",
      "text/plain": [
       "<Figure size 600x300 with 2 Axes>"
      ]
     },
     "metadata": {},
     "output_type": "display_data"
    }
   ],
   "source": [
    "import matplotlib.pyplot as plt\n",
    "import torch\n",
    "\n",
    "# Get a batch of data\n",
    "data_iter = iter(train_loader)\n",
    "pairs, labels = next(data_iter)\n",
    "\n",
    "# Move tensors to CPU and convert them to NumPy\n",
    "pairs = pairs.cpu().detach().numpy()  # Shape: (batch_size, 2, 28, 28)\n",
    "labels = labels.cpu().detach().numpy()\n",
    "\n",
    "# Select the first pair\n",
    "img1 = pairs[0, 0, :, :]  # First image\n",
    "img2 = pairs[0, 1, :, :]  # Second image\n",
    "label = labels[0]  # Label (1 = same digit, 0 = different)\n",
    "\n",
    "# Create a single row of images\n",
    "fig, axes = plt.subplots(1, 2, figsize=(6, 3))\n",
    "fig.suptitle(f\"Pair: {'Same' if label == 1 else 'Different'}\", fontsize=14, fontweight='bold')\n",
    "\n",
    "# Image 1\n",
    "axes[0].imshow(img1.squeeze(), cmap='gray')\n",
    "axes[0].set_title(\"Image 1\")\n",
    "axes[0].axis(\"off\")\n",
    "\n",
    "# Image 2\n",
    "axes[1].imshow(img2.squeeze(), cmap='gray')\n",
    "axes[1].set_title(\"Image 2\")\n",
    "axes[1].axis(\"off\")\n",
    "\n",
    "plt.tight_layout()\n",
    "plt.show()"
   ]
  },
  {
   "cell_type": "code",
   "execution_count": 5,
   "id": "f66fae23",
   "metadata": {
    "execution": {
     "iopub.execute_input": "2025-03-16T17:21:10.657083Z",
     "iopub.status.busy": "2025-03-16T17:21:10.656799Z",
     "iopub.status.idle": "2025-03-16T17:21:10.665499Z",
     "shell.execute_reply": "2025-03-16T17:21:10.664905Z"
    },
    "papermill": {
     "duration": 0.014844,
     "end_time": "2025-03-16T17:21:10.666687",
     "exception": false,
     "start_time": "2025-03-16T17:21:10.651843",
     "status": "completed"
    },
    "tags": []
   },
   "outputs": [],
   "source": [
    "import torch\n",
    "import torch.nn as nn\n",
    "import torch.nn.functional as F\n",
    "\n",
    "class SiameseCNN(nn.Module):\n",
    "    def __init__(self):\n",
    "        super(SiameseCNN, self).__init__()\n",
    "        \n",
    "        # Shared CNN Feature Extractor\n",
    "        self.conv = nn.Sequential(\n",
    "            nn.Conv2d(1, 32, kernel_size=3, stride=1, padding=1),  # (28, 28) → (28, 28)\n",
    "            nn.ReLU(),\n",
    "            nn.BatchNorm2d(32),\n",
    "            nn.Conv2d(32, 64, kernel_size=3, stride=1, padding=1),  # (28, 28) → (28, 28)\n",
    "            nn.ReLU(),\n",
    "            nn.BatchNorm2d(64),\n",
    "            nn.MaxPool2d(2, 2),  # (28, 28) → (14, 14)\n",
    "            \n",
    "            nn.Conv2d(64, 128, kernel_size=3, stride=1, padding=1),  # (14, 14) → (14, 14)\n",
    "            nn.ReLU(),\n",
    "            nn.BatchNorm2d(128),\n",
    "            nn.MaxPool2d(2, 2),  # (14, 14) → (7, 7)\n",
    "\n",
    "            nn.Conv2d(128, 256, kernel_size=3, stride=1, padding=1),  # (7, 7) → (7, 7)\n",
    "            nn.ReLU(),\n",
    "            nn.BatchNorm2d(256),\n",
    "            nn.MaxPool2d(2, 2)  # (7, 7) → (3, 3)\n",
    "        )\n",
    "        \n",
    "        # Fully Connected Embedding Layer\n",
    "        self.fc = nn.Sequential(\n",
    "            nn.Linear(256 * 3 * 3, 512), \n",
    "            nn.ReLU(),\n",
    "            nn.BatchNorm1d(512),\n",
    "            nn.Linear(512, 256),\n",
    "            nn.ReLU(),\n",
    "            nn.BatchNorm1d(256)\n",
    "        )\n",
    "        \n",
    "        # Final Binary Classification\n",
    "        self.classifier = nn.Sequential(\n",
    "            nn.Linear(768, 256),  # Fix: Match input size\n",
    "            nn.ReLU(),\n",
    "            nn.Linear(256, 1),\n",
    "            nn.Sigmoid()\n",
    "        )\n",
    "        \n",
    "    def forward_once(self, x):\n",
    "        \"\"\"Passes one input through the shared feature extractor.\"\"\"\n",
    "        x = self.conv(x)\n",
    "        x = x.view(x.shape[0], -1)  # Flatten\n",
    "        x = self.fc(x)\n",
    "        return x\n",
    "\n",
    "    def forward(self, x):\n",
    "        \"\"\"Takes in (batch_size, 2, 28, 28) and processes both images.\"\"\"\n",
    "        \n",
    "        # Extract image pairs (x is [batch_size, 2, 28, 28])\n",
    "        img1 = x[:, 0].unsqueeze(1)  # Converts (batch_size, 28, 28) → (batch_size, 1, 28, 28)\n",
    "        img2 = x[:, 1].unsqueeze(1)  # Same for img2\n",
    "    \n",
    "        # Ensure correct shape for Conv2D\n",
    "        assert img1.shape == (x.shape[0], 1, 28, 28), f\"Shape error: {img1.shape}\"\n",
    "        assert img2.shape == (x.shape[0], 1, 28, 28), f\"Shape error: {img2.shape}\"\n",
    "    \n",
    "        # Pass through shared CNN\n",
    "        feat1 = self.forward_once(img1)  # Shape: (batch_size, 256)\n",
    "        feat2 = self.forward_once(img2)  # Shape: (batch_size, 256\n",
    "        \n",
    "        # Fix merging of features\n",
    "        merged = torch.cat([feat1, feat2, torch.abs(feat1 - feat2)], dim=1)  # Shape: (batch_size, 768)\n",
    "    \n",
    "        # Final classifier\n",
    "        out = self.classifier(merged)  # Shape: (batch_size, 1)\n",
    "        \n",
    "        return out"
   ]
  },
  {
   "cell_type": "code",
   "execution_count": 6,
   "id": "efe5b860",
   "metadata": {
    "execution": {
     "iopub.execute_input": "2025-03-16T17:21:10.675928Z",
     "iopub.status.busy": "2025-03-16T17:21:10.675672Z",
     "iopub.status.idle": "2025-03-16T17:21:10.927375Z",
     "shell.execute_reply": "2025-03-16T17:21:10.926458Z"
    },
    "papermill": {
     "duration": 0.257616,
     "end_time": "2025-03-16T17:21:10.928625",
     "exception": false,
     "start_time": "2025-03-16T17:21:10.671009",
     "status": "completed"
    },
    "tags": []
   },
   "outputs": [
    {
     "name": "stdout",
     "output_type": "stream",
     "text": [
      "Using device: cuda\n"
     ]
    }
   ],
   "source": [
    "# Check if GPU is available\n",
    "device = torch.device(\"cuda\" if torch.cuda.is_available() else \"cpu\")\n",
    "print(f\"Using device: {device}\")\n",
    "\n",
    "# Initialize model and move to GPU\n",
    "model = SiameseCNN().to(device)\n",
    "\n",
    "# Loss function and optimizer\n",
    "criterion = nn.BCELoss()  # Binary classification loss\n",
    "optimizer = torch.optim.Adam(model.parameters(), lr=0.001, weight_decay=1e-4)\n",
    "scheduler = torch.optim.lr_scheduler.StepLR(optimizer, step_size=5, gamma=0.5)"
   ]
  },
  {
   "cell_type": "code",
   "execution_count": 7,
   "id": "44a5f4e8",
   "metadata": {
    "execution": {
     "iopub.execute_input": "2025-03-16T17:21:10.939022Z",
     "iopub.status.busy": "2025-03-16T17:21:10.938730Z",
     "iopub.status.idle": "2025-03-16T17:22:18.635974Z",
     "shell.execute_reply": "2025-03-16T17:22:18.634921Z"
    },
    "papermill": {
     "duration": 67.704002,
     "end_time": "2025-03-16T17:22:18.637355",
     "exception": false,
     "start_time": "2025-03-16T17:21:10.933353",
     "status": "completed"
    },
    "tags": []
   },
   "outputs": [
    {
     "name": "stdout",
     "output_type": "stream",
     "text": [
      "Epoch [1/20] | Train Loss: 0.2632 | Val Loss: 0.1363 | Val Acc: 95.25%\n",
      "Epoch [2/20] | Train Loss: 0.0693 | Val Loss: 0.6577 | Val Acc: 91.40%\n",
      "Epoch [3/20] | Train Loss: 0.0392 | Val Loss: 0.0766 | Val Acc: 97.90%\n",
      "Epoch [4/20] | Train Loss: 0.0192 | Val Loss: 0.0856 | Val Acc: 97.90%\n",
      "Epoch [5/20] | Train Loss: 0.0228 | Val Loss: 0.0617 | Val Acc: 98.50%\n",
      "Epoch [6/20] | Train Loss: 0.0060 | Val Loss: 0.0249 | Val Acc: 99.25%\n",
      "Epoch [7/20] | Train Loss: 0.0021 | Val Loss: 0.0364 | Val Acc: 98.85%\n",
      "Epoch [8/20] | Train Loss: 0.0008 | Val Loss: 0.0331 | Val Acc: 98.95%\n",
      "Epoch [9/20] | Train Loss: 0.0007 | Val Loss: 0.0360 | Val Acc: 99.15%\n",
      "Epoch [10/20] | Train Loss: 0.0004 | Val Loss: 0.0371 | Val Acc: 98.90%\n",
      "Epoch [11/20] | Train Loss: 0.0003 | Val Loss: 0.0324 | Val Acc: 99.10%\n",
      "Epoch [12/20] | Train Loss: 0.0004 | Val Loss: 0.0327 | Val Acc: 99.05%\n",
      "Epoch [13/20] | Train Loss: 0.0014 | Val Loss: 0.0340 | Val Acc: 98.90%\n",
      "Epoch [14/20] | Train Loss: 0.0003 | Val Loss: 0.0348 | Val Acc: 99.00%\n",
      "Epoch [15/20] | Train Loss: 0.0003 | Val Loss: 0.0322 | Val Acc: 99.15%\n",
      "Epoch [16/20] | Train Loss: 0.0003 | Val Loss: 0.0345 | Val Acc: 99.00%\n",
      "Epoch [17/20] | Train Loss: 0.0003 | Val Loss: 0.0341 | Val Acc: 99.05%\n",
      "Epoch [18/20] | Train Loss: 0.0003 | Val Loss: 0.0466 | Val Acc: 98.85%\n",
      "Epoch [19/20] | Train Loss: 0.0008 | Val Loss: 0.0319 | Val Acc: 99.10%\n",
      "Epoch [20/20] | Train Loss: 0.0006 | Val Loss: 0.0325 | Val Acc: 99.20%\n",
      "Training complete!\n"
     ]
    }
   ],
   "source": [
    "num_epochs = 20  # Adjust based on performance\n",
    "train_loss = []\n",
    "test_loss = []\n",
    "\n",
    "for epoch in range(num_epochs):\n",
    "    ### 🔥 TRAINING PHASE ###\n",
    "    model.train()  # Set model to training mode\n",
    "    running_loss = 0.0\n",
    "\n",
    "    for pairs, labels in train_loader:\n",
    "        pairs, labels = pairs.to(device), labels.to(device)  # Move batch to GPU\n",
    "\n",
    "        optimizer.zero_grad()  # Reset gradients\n",
    "        outputs = model(pairs).squeeze()  # Forward pass\n",
    "\n",
    "        loss = criterion(outputs, labels)  # Compute loss\n",
    "        loss.backward()  # Backpropagation\n",
    "        optimizer.step()  # Update weights\n",
    "\n",
    "        running_loss += loss.item()\n",
    "\n",
    "    avg_train_loss = running_loss / len(train_loader)\n",
    "    train_loss.append(avg_train_loss)\n",
    "    scheduler.step()\n",
    "\n",
    "    ### 🎯 EVALUATION PHASE ###\n",
    "    model.eval()  # Set model to evaluation mode\n",
    "    correct, total = 0, 0\n",
    "    running_val_loss = 0.0\n",
    "\n",
    "    with torch.no_grad():  # No need to track gradients during evaluation\n",
    "        for pairs, labels in test_loader:\n",
    "            pairs, labels = pairs.to(device), labels.to(device)\n",
    "\n",
    "            outputs = model(pairs).squeeze()\n",
    "            val_loss = criterion(outputs, labels)  # Compute validation loss\n",
    "            running_val_loss += val_loss.item()\n",
    "\n",
    "            predictions = (outputs > 0.5).float()  # Convert probs to 0 or 1\n",
    "            correct += (predictions == labels).sum().item()\n",
    "            total += labels.size(0)\n",
    "\n",
    "    avg_val_loss = running_val_loss / len(test_loader)\n",
    "    test_loss.append(avg_val_loss)\n",
    "    accuracy = correct / total * 100  # Compute accuracy\n",
    "\n",
    "    print(f\"Epoch [{epoch+1}/{num_epochs}] | Train Loss: {avg_train_loss:.4f} | Val Loss: {avg_val_loss:.4f} | Val Acc: {accuracy:.2f}%\")\n",
    "\n",
    "print(\"Training complete!\")"
   ]
  },
  {
   "cell_type": "code",
   "execution_count": 8,
   "id": "5bc02599",
   "metadata": {
    "execution": {
     "iopub.execute_input": "2025-03-16T17:22:18.648955Z",
     "iopub.status.busy": "2025-03-16T17:22:18.648669Z",
     "iopub.status.idle": "2025-03-16T17:22:19.042705Z",
     "shell.execute_reply": "2025-03-16T17:22:19.041840Z"
    },
    "papermill": {
     "duration": 0.401314,
     "end_time": "2025-03-16T17:22:19.044144",
     "exception": false,
     "start_time": "2025-03-16T17:22:18.642830",
     "status": "completed"
    },
    "tags": []
   },
   "outputs": [
    {
     "data": {
      "image/png": "[encoded data removed]",
      "text/plain": [
       "<Figure size 600x1000 with 10 Axes>"
      ]
     },
     "metadata": {},
     "output_type": "display_data"
    }
   ],
   "source": [
    "import torch\n",
    "import matplotlib.pyplot as plt\n",
    "\n",
    "# Set model to evaluation mode\n",
    "model.eval()\n",
    "\n",
    "# Get a batch from the test loader\n",
    "data_iter = iter(test_loader)\n",
    "pairs, labels = next(data_iter)\n",
    "\n",
    "# Move to the same device as model\n",
    "device = torch.device(\"cuda\" if torch.cuda.is_available() else \"cpu\")\n",
    "pairs, labels = pairs.to(device), labels.to(device)\n",
    "\n",
    "# Get predictions\n",
    "with torch.no_grad():\n",
    "    outputs = model(pairs).squeeze()  # Shape: (batch_size,)\n",
    "    predictions = (outputs > 0.5).float()  # Convert probabilities to binary 0/1\n",
    "\n",
    "# Move tensors to CPU for visualization\n",
    "pairs, labels, predictions = pairs.cpu(), labels.cpu(), predictions.cpu()\n",
    "\n",
    "# Display 5 random test pairs\n",
    "num_samples = 5\n",
    "fig, axes = plt.subplots(num_samples, 2, figsize=(6, 10))\n",
    "\n",
    "for i in range(num_samples):\n",
    "    img1 = pairs[i, 0].numpy()  # First image in pair\n",
    "    img2 = pairs[i, 1].numpy()  # Second image in pair\n",
    "    label = int(labels[i])  # Ground truth\n",
    "    pred = int(predictions[i])  # Model prediction\n",
    "\n",
    "    # Image 1\n",
    "    axes[i, 0].imshow(img1.squeeze(), cmap='gray')\n",
    "    axes[i, 0].axis(\"off\")\n",
    "\n",
    "    # Image 2\n",
    "    axes[i, 1].imshow(img2.squeeze(), cmap='gray')\n",
    "    axes[i, 1].set_title(f\"Pred: {'Same' if pred == 1 else 'Diff'} |  GT: {'Same' if label == 1 else 'Diff'}\")\n",
    "    axes[i, 1].axis(\"off\")\n",
    "\n",
    "plt.tight_layout()\n",
    "plt.show()"
   ]
  },
  {
   "cell_type": "code",
   "execution_count": 9,
   "id": "cd5c85f7",
   "metadata": {
    "execution": {
     "iopub.execute_input": "2025-03-16T17:22:19.057117Z",
     "iopub.status.busy": "2025-03-16T17:22:19.056843Z",
     "iopub.status.idle": "2025-03-16T17:22:19.267875Z",
     "shell.execute_reply": "2025-03-16T17:22:19.267032Z"
    },
    "papermill": {
     "duration": 0.21911,
     "end_time": "2025-03-16T17:22:19.269375",
     "exception": false,
     "start_time": "2025-03-16T17:22:19.050265",
     "status": "completed"
    },
    "tags": []
   },
   "outputs": [
    {
     "data": {
      "image/png": "[encoded data removed]",
      "text/plain": [
       "<Figure size 800x500 with 1 Axes>"
      ]
     },
     "metadata": {},
     "output_type": "display_data"
    }
   ],
   "source": [
    "import matplotlib.pyplot as plt\n",
    "\n",
    "# Number of epochs\n",
    "epochs = list(range(1, len(train_loss) + 1))\n",
    "\n",
    "# Plot training and test loss\n",
    "plt.figure(figsize=(8, 5))\n",
    "plt.plot(epochs, train_loss, label=\"Training Loss\", marker='o', linestyle='-')\n",
    "plt.plot(epochs, test_loss, label=\"Test Loss\", marker='s', linestyle='--')\n",
    "\n",
    "# Labels and title\n",
    "plt.xlabel(\"Epochs\")\n",
    "plt.ylabel(\"Loss\")\n",
    "plt.title(\"Training vs Test Loss Over Epochs\")\n",
    "plt.legend()\n",
    "plt.grid(True)\n",
    "\n",
    "# Show plot\n",
    "plt.show()"
   ]
  },
  {
   "cell_type": "code",
   "execution_count": 10,
   "id": "c963cc37",
   "metadata": {
    "execution": {
     "iopub.execute_input": "2025-03-16T17:22:19.283684Z",
     "iopub.status.busy": "2025-03-16T17:22:19.283428Z",
     "iopub.status.idle": "2025-03-16T17:22:20.784753Z",
     "shell.execute_reply": "2025-03-16T17:22:20.783575Z"
    },
    "papermill": {
     "duration": 1.509743,
     "end_time": "2025-03-16T17:22:20.786146",
     "exception": false,
     "start_time": "2025-03-16T17:22:19.276403",
     "status": "completed"
    },
    "tags": []
   },
   "outputs": [
    {
     "name": "stdout",
     "output_type": "stream",
     "text": [
      "Precision: 0.9970, Recall: 0.9870, F1-Score: 0.9920\n"
     ]
    }
   ],
   "source": [
    "from sklearn.metrics import precision_score, recall_score, f1_score\n",
    "\n",
    "def compute_metrics(model, dataloader, device):\n",
    "    model.eval()\n",
    "    all_labels, all_preds = [], []\n",
    "\n",
    "    with torch.no_grad():\n",
    "        for pairs, labels in dataloader:\n",
    "            pairs, labels = pairs.to(device), labels.to(device)\n",
    "            outputs = model(pairs).squeeze()\n",
    "            predictions = (outputs > 0.5).float()\n",
    "            all_labels.extend(labels.cpu().numpy())\n",
    "            all_preds.extend(predictions.cpu().numpy())\n",
    "\n",
    "    precision = precision_score(all_labels, all_preds)\n",
    "    recall = recall_score(all_labels, all_preds)\n",
    "    f1 = f1_score(all_labels, all_preds)\n",
    "\n",
    "    return precision, recall, f1\n",
    "\n",
    "precision, recall, f1 = compute_metrics(model, test_loader, device)\n",
    "print(f\"Precision: {precision:.4f}, Recall: {recall:.4f}, F1-Score: {f1:.4f}\")"
   ]
  },
  {
   "cell_type": "code",
   "execution_count": 11,
   "id": "6dc81435",
   "metadata": {
    "execution": {
     "iopub.execute_input": "2025-03-16T17:22:20.801263Z",
     "iopub.status.busy": "2025-03-16T17:22:20.800902Z",
     "iopub.status.idle": "2025-03-16T17:22:22.321370Z",
     "shell.execute_reply": "2025-03-16T17:22:22.320600Z"
    },
    "papermill": {
     "duration": 1.529266,
     "end_time": "2025-03-16T17:22:22.322651",
     "exception": false,
     "start_time": "2025-03-16T17:22:20.793385",
     "status": "completed"
    },
    "tags": []
   },
   "outputs": [
    {
     "data": {
      "image/png": "[encoded data removed]",
      "text/plain": [
       "<Figure size 500x400 with 2 Axes>"
      ]
     },
     "metadata": {},
     "output_type": "display_data"
    }
   ],
   "source": [
    "import seaborn as sns\n",
    "import torch\n",
    "import matplotlib.pyplot as plt\n",
    "from sklearn.metrics import confusion_matrix\n",
    "\n",
    "def plot_confusion_matrix(model, dataloader, device):\n",
    "    model.eval()\n",
    "    all_labels, all_preds = [], []\n",
    "\n",
    "    with torch.no_grad():\n",
    "        for pairs, labels in dataloader:\n",
    "            pairs, labels = pairs.to(device), labels.to(device)\n",
    "            outputs = model(pairs).squeeze()\n",
    "            predictions = (outputs > 0.5).float()\n",
    "            all_labels.extend(labels.cpu().numpy())\n",
    "            all_preds.extend(predictions.cpu().numpy())\n",
    "\n",
    "    # Compute confusion matrix\n",
    "    cm = confusion_matrix(all_labels, all_preds)\n",
    "\n",
    "    # Plot the confusion matrix\n",
    "    plt.figure(figsize=(5, 4))\n",
    "    sns.heatmap(cm, annot=True, fmt=\"d\", cmap=\"Blues\", xticklabels=[\"Different\", \"Same\"], yticklabels=[\"Different\", \"Same\"])\n",
    "    plt.xlabel(\"Predicted Label\")\n",
    "    plt.ylabel(\"True Label\")\n",
    "    plt.title(\"Confusion Matrix\")\n",
    "    plt.show()\n",
    "\n",
    "\n",
    "plot_confusion_matrix(model, test_loader, device)"
   ]
  },
  {
   "cell_type": "code",
   "execution_count": null,
   "id": "3abde5b1",
   "metadata": {
    "papermill": {
     "duration": 0.006649,
     "end_time": "2025-03-16T17:22:22.336680",
     "exception": false,
     "start_time": "2025-03-16T17:22:22.330031",
     "status": "completed"
    },
    "tags": []
   },
   "outputs": [],
   "source": []
  }
 ],
 "metadata": {
  "kaggle": {
   "accelerator": "gpu",
   "dataSources": [],
   "dockerImageVersionId": 30919,
   "isGpuEnabled": true,
   "isInternetEnabled": true,
   "language": "python",
   "sourceType": "notebook"
  },
  "kernelspec": {
   "display_name": "Python 3",
   "language": "python",
   "name": "python3"
  },
  "language_info": {
   "codemirror_mode": {
    "name": "ipython",
    "version": 3
   },
   "file_extension": ".py",
   "mimetype": "text/x-python",
   "name": "python",
   "nbconvert_exporter": "python",
   "pygments_lexer": "ipython3",
   "version": "3.10.12"
  },
  "papermill": {
   "default_parameters": {},
   "duration": 88.813359,
   "end_time": "2025-03-16T17:22:25.058420",
   "environment_variables": {},
   "exception": null,
   "input_path": "__notebook__.ipynb",
   "output_path": "__notebook__.ipynb",
   "parameters": {},
   "start_time": "2025-03-16T17:20:56.245061",
   "version": "2.6.0"
  }
 },
 "nbformat": 4,
 "nbformat_minor": 5
}
